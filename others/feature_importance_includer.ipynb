{
 "cells": [
  {
   "cell_type": "code",
   "execution_count": 1,
   "id": "01232bf0-4e3d-4e43-9142-3de18615e2e7",
   "metadata": {},
   "outputs": [],
   "source": [
    "import pandas as pd"
   ]
  },
  {
   "cell_type": "code",
   "execution_count": 2,
   "id": "7d31a084-17b6-4289-9db4-85020cbefc8f",
   "metadata": {},
   "outputs": [],
   "source": [
    "text_features = \"\"\"\n",
    "    %-sma-period_21_shift-5_DOGE/USDT_15m\n",
    "    %-adx-period_21_shift-5_BTC/USDT_15m\n",
    "    %-sma-period_21_shift-3_DOGE/USDT_15m\n",
    "    %-adx-period_14_shift-5_DOGE/USDT_15m\n",
    "    %-pct-change_gen_ETH/USDT_5m\n",
    "    %-adx-period_14_shift-2_DOGE/USDT_15m\n",
    "    %-adx-period_9_DOGE/USDT_15m\n",
    "    %-ema-period_21_DOGE/USDT_5m\n",
    "    %-roc-period_21_BTC/USDT_15m\n",
    "    %-adx-period_9_shift-2_DOGE/USDT_15m\n",
    "    %-adx-period_21_shift-1_BTC/USDT_5m\n",
    "    %-roc-period_14_ETH/USDT_15m\n",
    "    %-adx-period_21_shift-1_DOGE/USDT_5m\n",
    "    %-mfi-period_21_shift-5_DOGE/USDT_15m\n",
    "    %-bb_width-period_9_shift-3_BTC/USDT_15m\n",
    "    %-mfi-period_14_shift-5_ETH/USDT_5m\n",
    "    %-roc-period_21_shift-2_DOGE/USDT_15m\n",
    "    %-raw_volume_gen_shift-5_BTC/USDT_5m\n",
    "    %-relative_volume-period_5_shift-3_ETH/USDT_5m\n",
    "    %-adx-period_21_shift-2_ETH/USDT_15m\n",
    "    %-adx-period_5_shift-1_DOGE/USDT_5m\n",
    "    %-adx-period_3_shift-1_DOGE/USDT_15m\n",
    "    %-close-bb_lower-period_21_shift-4_DOGE/USDT_15m\n",
    "    %-roc-period_5_shift-2_BTC/USDT_5m\n",
    "    %-mfi-period_5_shift-1_BTC/USDT_15m\n",
    "    %-ema-period_9_ETH/USDT_5m\n",
    "    %-sma-period_5_shift-4_ETH/USDT_5m\n",
    "    %-raw_volume_gen_shift-1_ETH/USDT_15m\n",
    "    %-sma-period_5_DOGE/USDT_5m\n",
    "\"\"\""
   ]
  },
  {
   "cell_type": "code",
   "execution_count": 6,
   "id": "f3ea2546-aaa1-4e01-bfa8-1f898c7ee290",
   "metadata": {},
   "outputs": [
    {
     "data": {
      "text/plain": [
       "['%-sma-period_21_shift-5_DOGE/USDT_15m',\n",
       " '%-adx-period_21_shift-5_BTC/USDT_15m',\n",
       " '%-sma-period_21_shift-3_DOGE/USDT_15m',\n",
       " '%-adx-period_14_shift-5_DOGE/USDT_15m',\n",
       " '%-pct-change_gen_ETH/USDT_5m',\n",
       " '%-adx-period_14_shift-2_DOGE/USDT_15m',\n",
       " '%-adx-period_9_DOGE/USDT_15m',\n",
       " '%-ema-period_21_DOGE/USDT_5m',\n",
       " '%-roc-period_21_BTC/USDT_15m',\n",
       " '%-adx-period_9_shift-2_DOGE/USDT_15m',\n",
       " '%-adx-period_21_shift-1_BTC/USDT_5m',\n",
       " '%-roc-period_14_ETH/USDT_15m',\n",
       " '%-adx-period_21_shift-1_DOGE/USDT_5m',\n",
       " '%-mfi-period_21_shift-5_DOGE/USDT_15m',\n",
       " '%-bb_width-period_9_shift-3_BTC/USDT_15m',\n",
       " '%-mfi-period_14_shift-5_ETH/USDT_5m',\n",
       " '%-roc-period_21_shift-2_DOGE/USDT_15m',\n",
       " '%-raw_volume_gen_shift-5_BTC/USDT_5m',\n",
       " '%-relative_volume-period_5_shift-3_ETH/USDT_5m',\n",
       " '%-adx-period_21_shift-2_ETH/USDT_15m',\n",
       " '%-adx-period_5_shift-1_DOGE/USDT_5m',\n",
       " '%-adx-period_3_shift-1_DOGE/USDT_15m',\n",
       " '%-close-bb_lower-period_21_shift-4_DOGE/USDT_15m',\n",
       " '%-roc-period_5_shift-2_BTC/USDT_5m',\n",
       " '%-mfi-period_5_shift-1_BTC/USDT_15m',\n",
       " '%-ema-period_9_ETH/USDT_5m',\n",
       " '%-sma-period_5_shift-4_ETH/USDT_5m',\n",
       " '%-raw_volume_gen_shift-1_ETH/USDT_15m',\n",
       " '%-sma-period_5_DOGE/USDT_5m']"
      ]
     },
     "execution_count": 6,
     "metadata": {},
     "output_type": "execute_result"
    }
   ],
   "source": [
    "text_features.split()"
   ]
  },
  {
   "cell_type": "code",
   "execution_count": 5,
   "id": "405d6dc8-850a-4158-b707-048591d9a8ba",
   "metadata": {},
   "outputs": [
    {
     "data": {
      "text/plain": [
       "['%-sma-period_21_shift-5_DOGE/USDT_15m',\n",
       " '%-adx-period_21_shift-5_BTC/USDT_15m',\n",
       " '%-sma-period_21_shift-3_DOGE/USDT_15m',\n",
       " '%-adx-period_14_shift-5_DOGE/USDT_15m',\n",
       " '%-pct-change_gen_ETH/USDT_5m',\n",
       " '%-adx-period_14_shift-2_DOGE/USDT_15m',\n",
       " '%-adx-period_9_DOGE/USDT_15m',\n",
       " '%-ema-period_21_DOGE/USDT_5m',\n",
       " '%-roc-period_21_BTC/USDT_15m',\n",
       " '%-adx-period_9_shift-2_DOGE/USDT_15m',\n",
       " '%-adx-period_21_shift-1_BTC/USDT_5m',\n",
       " '%-roc-period_14_ETH/USDT_15m',\n",
       " '%-adx-period_21_shift-1_DOGE/USDT_5m',\n",
       " '%-mfi-period_21_shift-5_DOGE/USDT_15m',\n",
       " '%-bb_width-period_9_shift-3_BTC/USDT_15m',\n",
       " '%-mfi-period_14_shift-5_ETH/USDT_5m',\n",
       " '%-roc-period_21_shift-2_DOGE/USDT_15m',\n",
       " '%-raw_volume_gen_shift-5_BTC/USDT_5m',\n",
       " '%-relative_volume-period_5_shift-3_ETH/USDT_5m',\n",
       " '%-adx-period_21_shift-2_ETH/USDT_15m',\n",
       " '%-adx-period_5_shift-1_DOGE/USDT_5m',\n",
       " '%-adx-period_3_shift-1_DOGE/USDT_15m',\n",
       " '%-close-bb_lower-period_21_shift-4_DOGE/USDT_15m',\n",
       " '%-roc-period_5_shift-2_BTC/USDT_5m',\n",
       " '%-mfi-period_5_shift-1_BTC/USDT_15m',\n",
       " '%-ema-period_9_ETH/USDT_5m',\n",
       " '%-sma-period_5_shift-4_ETH/USDT_5m',\n",
       " '%-raw_volume_gen_shift-1_ETH/USDT_15m',\n",
       " '%-sma-period_5_DOGE/USDT_5m']"
      ]
     },
     "execution_count": 5,
     "metadata": {},
     "output_type": "execute_result"
    }
   ],
   "source": [
    "main_pair = \"DOGE/USDT\"\n",
    "corr_pair = ['BTC/USDT', 'ETH/USDT']\n",
    "\n",
    "\n",
    "def selected_columns(main_pair, corr_pair=['BTC/USDT', 'ETH/USDT']):\n",
    "    selected_cols = []\n",
    "\n",
    "    for feature in text_features.split():\n",
    "        pair = feature.split(\"_\")[-2]\n",
    "        if pair not in corr_pair:\n",
    "            # print(feature)\n",
    "            feature = feature.replace(pair, main_pair)\n",
    "            selected_cols.append(feature)\n",
    "        else:\n",
    "            selected_cols.append(feature)\n",
    "    return selected_cols\n",
    "\n",
    "\n",
    "metadata = {'pair': 'DOGE/USDT'}\n",
    "\n",
    "selected_columns(metadata['pair'])"
   ]
  },
  {
   "cell_type": "code",
   "execution_count": 4,
   "id": "e8c32667-cf42-4091-8b95-db1419a8da79",
   "metadata": {},
   "outputs": [
    {
     "data": {
      "text/plain": [
       "['%-sma-period_21_shift-5_DOGE/USDT_15m',\n",
       " '%-adx-period_21_shift-5_BTC/USDT_15m',\n",
       " '%-sma-period_21_shift-3_DOGE/USDT_15m',\n",
       " '%-adx-period_14_shift-5_DOGE/USDT_15m',\n",
       " '%-pct-change_gen_ETH/USDT_5m',\n",
       " '%-adx-period_14_shift-2_DOGE/USDT_15m',\n",
       " '%-adx-period_9_DOGE/USDT_15m',\n",
       " '%-ema-period_21_DOGE/USDT_5m',\n",
       " '%-roc-period_21_BTC/USDT_15m',\n",
       " '%-adx-period_9_shift-2_DOGE/USDT_15m',\n",
       " '%-adx-period_21_shift-1_BTC/USDT_5m',\n",
       " '%-roc-period_14_ETH/USDT_15m',\n",
       " '%-adx-period_21_shift-1_DOGE/USDT_5m',\n",
       " '%-mfi-period_21_shift-5_DOGE/USDT_15m',\n",
       " '%-bb_width-period_9_shift-3_BTC/USDT_15m',\n",
       " '%-mfi-period_14_shift-5_ETH/USDT_5m',\n",
       " '%-roc-period_21_shift-2_DOGE/USDT_15m',\n",
       " '%-raw_volume_gen_shift-5_BTC/USDT_5m',\n",
       " '%-relative_volume-period_5_shift-3_ETH/USDT_5m',\n",
       " '%-adx-period_21_shift-2_ETH/USDT_15m',\n",
       " '%-adx-period_5_shift-1_DOGE/USDT_5m',\n",
       " '%-adx-period_3_shift-1_DOGE/USDT_15m',\n",
       " '%-close-bb_lower-period_21_shift-4_DOGE/USDT_15m',\n",
       " '%-roc-period_5_shift-2_BTC/USDT_5m',\n",
       " '%-mfi-period_5_shift-1_BTC/USDT_15m',\n",
       " '%-ema-period_9_ETH/USDT_5m',\n",
       " '%-sma-period_5_shift-4_ETH/USDT_5m',\n",
       " '%-raw_volume_gen_shift-1_ETH/USDT_15m',\n",
       " '%-sma-period_5_DOGE/USDT_5m']"
      ]
     },
     "execution_count": 4,
     "metadata": {},
     "output_type": "execute_result"
    }
   ],
   "source": [
    "selected_cols"
   ]
  }
 ],
 "metadata": {
  "kernelspec": {
   "display_name": "Python 3 (ipykernel)",
   "language": "python",
   "name": "python3"
  },
  "language_info": {
   "codemirror_mode": {
    "name": "ipython",
    "version": 3
   },
   "file_extension": ".py",
   "mimetype": "text/x-python",
   "name": "python",
   "nbconvert_exporter": "python",
   "pygments_lexer": "ipython3",
   "version": "3.10.9"
  }
 },
 "nbformat": 4,
 "nbformat_minor": 5
}
